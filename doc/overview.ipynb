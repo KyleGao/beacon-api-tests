{
 "cells": [
  {
   "cell_type": "code",
   "execution_count": 7,
   "metadata": {
    "slideshow": {
     "slide_type": "skip"
    }
   },
   "outputs": [
    {
     "data": {
      "text/html": [
       "<style>.container { width:100% !important;}; .div {overflow-x: hidden !important}</style>"
      ],
      "text/plain": [
       "<IPython.core.display.HTML object>"
      ]
     },
     "metadata": {},
     "output_type": "display_data"
    }
   ],
   "source": [
    "from IPython.core.display import display, HTML\n",
    "display(HTML(\"<style>.container { width:100% !important;}; .rendered_html {overflow-x: hidden !important}</style>\"))"
   ]
  },
  {
   "cell_type": "markdown",
   "metadata": {
    "slideshow": {
     "slide_type": "slide"
    }
   },
   "source": [
    "# [Beacon api compliance suite](https://github.com/NBISweden/beacon-api-tests)"
   ]
  },
  {
   "cell_type": "markdown",
   "metadata": {
    "slideshow": {
     "slide_type": "fragment"
    }
   },
   "source": [
    "Validation:\n",
    "\n",
    "- The beacon [OpenAPI schema](https://github.com/ga4gh-beacon/specification/blob/master/beacon.yaml)\n",
    "- The [JSON schemas](https://github.com/ga4gh-beacon/specification/blob/master/beacon.yaml) (CSCfi)"
   ]
  },
  {
   "cell_type": "markdown",
   "metadata": {
    "slideshow": {
     "slide_type": "fragment"
    }
   },
   "source": [
    "Data:\n",
    "    \n",
    "    - 1000 genomes data\n",
    "    - 9 lines (10 variants) from chromosome 22,\n",
    "      1000 Genomes Project data, Phase 3"
   ]
  },
  {
   "cell_type": "markdown",
   "metadata": {
    "slideshow": {
     "slide_type": "slide"
    }
   },
   "source": [
    "Testing a beacon:\n",
    "    \n",
    "   - Import the data"
   ]
  },
  {
   "cell_type": "markdown",
   "metadata": {
    "slideshow": {
     "slide_type": "fragment"
    }
   },
   "source": [
    "  - Requires:\n",
    "  \n",
    "    - python3\n",
    "    - pip3"
   ]
  },
  {
   "cell_type": "markdown",
   "metadata": {
    "slideshow": {
     "slide_type": "fragment"
    }
   },
   "source": [
    "  - Install dependencies:\n",
    "```\n",
    "    pip3 install -r requirements.txt\n",
    "```\n",
    "\n",
    "  - Run it:\n",
    "```\n",
    "python3 run.py --host \"http://mybeacon.com\"\n",
    "```"
   ]
  },
  {
   "cell_type": "markdown",
   "metadata": {
    "slideshow": {
     "slide_type": "slide"
    }
   },
   "source": [
    "Output:\n",
    "\n",
    "<img src=\"img/run.png\" alt=\"Bad varinanttype\" style=\"width:150%!important; max-width:200%; overflow-x:hidden !important\">"
   ]
  },
  {
   "cell_type": "markdown",
   "metadata": {
    "slideshow": {
     "slide_type": "slide"
    }
   },
   "source": [
    "Output, validation failure:\n",
    "￼\n",
    "<img src=\"img/bad_structure.png\" alt=\"Bad structure\" style=\"width:150% !important; max-width:200%!important\">\n",
    "\n"
   ]
  },
  {
   "cell_type": "markdown",
   "metadata": {
    "slideshow": {
     "slide_type": "slide"
    }
   },
   "source": [
    "Output, validation failure (only from the JSON schemas):\n",
    "\n",
    "<img src=\"img/json_check.png\" alt=\"Bad json\" width=\"150% !important\">\n",
    "\n"
   ]
  },
  {
   "cell_type": "markdown",
   "metadata": {
    "slideshow": {
     "slide_type": "slide"
    }
   },
   "source": [
    "Output, bad data:\n",
    "\n",
    "<img src=\"img/bad_vartype.png\" alt=\"Bad varianttype\" style=\"width:150% !important; max-width:200%; overflow:hidden\">\n"
   ]
  },
  {
   "cell_type": "markdown",
   "metadata": {
    "slideshow": {
     "slide_type": "slide"
    }
   },
   "source": [
    "Output, bad counts:\n",
    "\n",
    "<img src=\"img/bad_count.png\" alt=\"Bad counts\" style=\"width:150% !important; max-width:200%\">"
   ]
  },
  {
   "cell_type": "markdown",
   "metadata": {
    "slideshow": {
     "slide_type": "slide"
    }
   },
   "source": [
    "Future:\n",
    "\n",
    "- add more test data?\n",
    "- other types of checks?\n",
    "- all contributions are welcome!"
   ]
  }
 ],
 "metadata": {
  "celltoolbar": "Slideshow",
  "kernelspec": {
   "display_name": "Python 3",
   "language": "python",
   "name": "python3"
  },
  "language_info": {
   "codemirror_mode": {
    "name": "ipython",
    "version": 3
   },
   "file_extension": ".py",
   "mimetype": "text/x-python",
   "name": "python",
   "nbconvert_exporter": "python",
   "pygments_lexer": "ipython3",
   "version": "3.6.7"
  },
  "rise": {
   "height": 1024,
   "width": 1024
  }
 },
 "nbformat": 4,
 "nbformat_minor": 2
}
