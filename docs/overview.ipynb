{
 "cells": [
  {
   "cell_type": "code",
   "execution_count": 1,
   "metadata": {
    "slideshow": {
     "slide_type": "skip"
    }
   },
   "outputs": [],
   "source": [
    "from IPython.core.display import display, HTML"
   ]
  },
  {
   "cell_type": "markdown",
   "metadata": {
    "slideshow": {
     "slide_type": "slide"
    }
   },
   "source": [
    "# [Beacon api compliance suite](https://github.com/NBISweden/beacon-api-tests)"
   ]
  },
  {
   "cell_type": "markdown",
   "metadata": {
    "slideshow": {
     "slide_type": "slide"
    }
   },
   "source": [
    "Validation:\n",
    "\n",
    "- The beacon [OpenAPI schema](https://github.com/ga4gh-beacon/specification/blob/master/beacon.yaml) (GA4GH)\n",
    "- The [JSON schemas](https://github.com/CSCfi/beacon-python/tree/master/beacon_api/schemas) (CSCfi)\n"
   ]
  },
  {
   "cell_type": "markdown",
   "metadata": {
    "slideshow": {
     "slide_type": "fragment"
    }
   },
   "source": [
    "Data:\n",
    "    \n",
    "   - Mainly from 1000 Genomes Projet\n",
    "   - 11 lines (17 variants) from chromosome 22, Phase 3\n",
    "   - 2 structural variants (BND, for version 1.1.0\n",
    "  )"
   ]
  },
  {
   "cell_type": "markdown",
   "metadata": {
    "slideshow": {
     "slide_type": "slide"
    }
   },
   "source": [
    "The test suite...\n",
    "\n",
    "- validates the structure and content type of the responses"
   ]
  },
  {
   "cell_type": "markdown",
   "metadata": {
    "slideshow": {
     "slide_type": "fragment"
    }
   },
   "source": [
    "- tests\n",
    "\n",
    "  - `frequency`, `variantCount`, `callCount`, `sampleCount`\n",
    "  - searching by `alternateBases` and by `variantType`\n",
    "  - variant types (`DEL`, `INS`, `SNP`, `BND`)\n",
    "  - span queries (`startMin`/`startMax`)\n",
    "  - errors (queries without `assemblyId` etc)\n"
   ]
  },
  {
   "cell_type": "markdown",
   "metadata": {
    "slideshow": {
     "slide_type": "slide"
    }
   },
   "source": [
    "Testing a beacon:\n",
    "    \n",
    "   - Import the data (a vcf-file)"
   ]
  },
  {
   "cell_type": "markdown",
   "metadata": {
    "slideshow": {
     "slide_type": "fragment"
    }
   },
   "source": [
    "  - Requirements:\n",
    "  \n",
    "    - python3\n",
    "    - pip3\n",
    "    - `pip3 install -r requirements.txt`\n",
    "\n",
    "    "
   ]
  },
  {
   "cell_type": "markdown",
   "metadata": {
    "slideshow": {
     "slide_type": "fragment"
    }
   },
   "source": [
    "\n",
    "  - Run the test suite:\n",
    "```\n",
    "python3 beacon-api-tester.py --host \"http://mybeacon.com\"\n",
    "```"
   ]
  },
  {
   "cell_type": "markdown",
   "metadata": {
    "slideshow": {
     "slide_type": "slide"
    }
   },
   "source": [
    "Output:\n",
    "\n",
    "<img src=\"img/run.png\" alt=\"Bad varinanttype\" style=\"width:900px !important; max-width:200%; overflow-x:hidden !important\">"
   ]
  },
  {
   "cell_type": "markdown",
   "metadata": {
    "slideshow": {
     "slide_type": "slide"
    }
   },
   "source": [
    "Output, validation failure:\n",
    "\n",
    "- `\"organization\": null`\n",
    " <img src=\"img/bad_structure.png\" alt=\"Bad structure\" style=\"max-width:200%!important\">\n",
    "\n"
   ]
  },
  {
   "cell_type": "markdown",
   "metadata": {
    "slideshow": {
     "slide_type": "slide"
    }
   },
   "source": [
    "Output, validation failure (only from the JSON schemas):\n",
    "\n",
    "- `assemblyId: \"\"`\n",
    "<img src=\"img/json_check.png\" alt=\"Bad json\" style=\"max-width:200%!important\">\n",
    "\n"
   ]
  },
  {
   "cell_type": "markdown",
   "metadata": {
    "slideshow": {
     "slide_type": "slide"
    }
   },
   "source": [
    "Output, validation failure (only from the OpenAPI spec):\n",
    "\n",
    "- `\"organization\": {\"info\": {\"orgInfo\": \"...\"}}`\n",
    "<img src=\"img/openapi_error.png\" alt=\"Bad spec\" style=\"max-width:200%!important\">\n",
    "\n"
   ]
  },
  {
   "cell_type": "markdown",
   "metadata": {
    "slideshow": {
     "slide_type": "slide"
    }
   },
   "source": [
    "Output, bad answer:\n",
    "\n",
    "<img src=\"img/bad_vartype.png\" alt=\"Bad varianttype\" style=\"max-width:150%; overflow:hidden\">\n"
   ]
  },
  {
   "cell_type": "markdown",
   "metadata": {
    "slideshow": {
     "slide_type": "slide"
    }
   },
   "source": [
    "Output, bad counts:\n",
    "\n",
    "<img src=\"img/bad_count.png\" alt=\"Bad counts\" style=\"width:1500px !important; max-width:200%; overflow-x: scroll\">"
   ]
  },
  {
   "cell_type": "markdown",
   "metadata": {
    "slideshow": {
     "slide_type": "slide"
    }
   },
   "source": [
    "Schema validation:\n",
    "\n",
    "- will be automatically downloaded from GA4GH's / CSCfi's Github.\n",
    "\n",
    "- the queries are also validated (may help finding errors in the specifications)."
   ]
  },
  {
   "cell_type": "markdown",
   "metadata": {
    "slideshow": {
     "slide_type": "slide"
    }
   },
   "source": [
    "Not tested:\n",
    "\n",
    "- other values than `HIT` for `includeDatasetResponses`"
   ]
  },
  {
   "cell_type": "markdown",
   "metadata": {
    "slideshow": {
     "slide_type": "fragment"
    }
   },
   "source": [
    "- other `variantTypes` than `DEL`, `INS`, `SNP`, `BND`\n",
    "   "
   ]
  },
  {
   "cell_type": "markdown",
   "metadata": {
    "slideshow": {
     "slide_type": "skip"
    }
   },
   "source": [
    "Span queries:\n",
    "\n",
    "- the OpenAPI spec is not clear on how `start`, `end`, `startMin`, `startMax` etc can be used\n",
    "- are queries for the whole chromosome allowed?"
   ]
  },
  {
   "cell_type": "markdown",
   "metadata": {
    "slideshow": {
     "slide_type": "slide"
    }
   },
   "source": [
    "Future:\n",
    "\n",
    "- add more test data?\n",
    "- other types of checks?\n",
    "- closer integration to the Beacon itself?\n",
    "- all contributions are welcome!"
   ]
  },
  {
   "cell_type": "markdown",
   "metadata": {
    "slideshow": {
     "slide_type": "-"
    }
   },
   "source": [
    "\n",
    "\n",
    " &emsp;&emsp;&emsp; [https://github.com/NBISweden/beacon-api-tests]()"
   ]
  },
  {
   "cell_type": "markdown",
   "metadata": {
    "slideshow": {
     "slide_type": "skip"
    }
   },
   "source": [
    "\n",
    "```\n",
    "python3 beacon-api-tester.py -h\n",
    "```\n",
    "\n",
    "\n",
    "<img src=\"img/help.png\" alt=\"Help\" align=\"middle\" style=\"max-width:200%; margin=0px\">"
   ]
  }
 ],
 "metadata": {
  "celltoolbar": "Slideshow",
  "kernelspec": {
   "display_name": "Python 3",
   "language": "python",
   "name": "python3"
  },
  "language_info": {
   "codemirror_mode": {
    "name": "ipython",
    "version": 3
   },
   "file_extension": ".py",
   "mimetype": "text/x-python",
   "name": "python",
   "nbconvert_exporter": "python",
   "pygments_lexer": "ipython3",
   "version": "3.6.7"
  },
  "rise": {
   "height": 1024,
   "width": 1024
  }
 },
 "nbformat": 4,
 "nbformat_minor": 2
}
